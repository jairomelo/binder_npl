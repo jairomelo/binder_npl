{
 "cells": [
  {
   "cell_type": "code",
   "execution_count": null,
   "metadata": {},
   "outputs": [],
   "source": [
    "import pandas as pd\n",
    "import numpy as np\n",
    "from nltk.corpus import stopwords\n",
    "from nltk.probability import FreqDist\n",
    "from nltk.tokenize import word_tokenize"
   ]
  },
  {
   "source": [
    "Requisito para Binder (y Google Colab)"
   ],
   "cell_type": "markdown",
   "metadata": {}
  },
  {
   "cell_type": "code",
   "execution_count": null,
   "metadata": {},
   "outputs": [],
   "source": [
    "nltk.download('punkt')\n",
    "nltk.download('stopwords')"
   ]
  },
  {
   "cell_type": "code",
   "execution_count": null,
   "metadata": {},
   "outputs": [],
   "source": [
    "def palabras_frec(tabla, col, x):\n",
    "  '''\n",
    "  tabla = datos provenientes de la tabla\n",
    "  col = columna a analizar [valor de 0 a n]\n",
    "  x = cantidad de palabras frecuentes que quieren analizarse (>=1)\n",
    "  '''\n",
    "  df = pd.DataFrame.from_records(tabla)\n",
    "\n",
    "  tokenizar = sum(df.iloc[:, col].replace(np.nan, '', regex=True).apply(word_tokenize), [])\n",
    "\n",
    "  palabras_nopuntuacion = [p.lower() for p in tokenizar if p.isalpha()]\n",
    "  palabrasv = stopwords.words('spanish')\n",
    "\n",
    "  palabras = [p for p in palabras_nopuntuacion if p not in palabrasv]\n",
    "\n",
    "  frecuencia = FreqDist(palabras)\n",
    "  frecuencia.most_common(x)\n",
    "  frecuencia.plot(x)"
   ]
  },
  {
   "cell_type": "code",
   "execution_count": null,
   "metadata": {},
   "outputs": [],
   "source": [
    "respuestas = pd.read_csv('hd_respuestas.csv', header=1)\n"
   ]
  },
  {
   "cell_type": "code",
   "execution_count": null,
   "metadata": {},
   "outputs": [],
   "source": [
    "print(\"¿Por qué te interesa este curso / taller?\")\n",
    "\n",
    "palabras_frec(respuestas, 2, 10)\n",
    "\n",
    "print(\"¿Qué consideras debería ser indispensable tratar en este curso / taller?\")\n",
    "\n",
    "palabras_frec(respuestas, 4, 10)\n",
    "\n",
    "print(\"¿Cuál es tu profesión o área de conocimientos?\")\n",
    "\n",
    "palabras_frec(respuestas, 8, 10)\n",
    "\n",
    "print(\"¿Cuál es tu área o tema de estudios | investigación?\")\n",
    "\n",
    "palabras_frec(respuestas, 9, 10)\n",
    "\n",
    "print(\"¿Hay algún lenguaje, sistema, software o servicio Web del cuál quisieras saber más?\")\n",
    "\n",
    "palabras_frec(respuestas, 16, 20)"
   ]
  }
 ],
 "metadata": {
  "kernelspec": {
   "name": "python3",
   "display_name": "Python 3.8.5 64-bit ('datamooc': conda)",
   "metadata": {
    "interpreter": {
     "hash": "81c2c383596c9be05326fd2639876d79d2aa36abbad0d42dcc9c2ac2e75fda39"
    }
   }
  },
  "language_info": {
   "codemirror_mode": {
    "name": "ipython",
    "version": 3
   },
   "file_extension": ".py",
   "mimetype": "text/x-python",
   "name": "python",
   "nbconvert_exporter": "python",
   "pygments_lexer": "ipython3",
   "version": "3.8.5-final"
  }
 },
 "nbformat": 4,
 "nbformat_minor": 4
}